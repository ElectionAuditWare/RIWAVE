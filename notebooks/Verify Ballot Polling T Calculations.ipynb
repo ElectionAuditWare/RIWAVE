{
 "cells": [
  {
   "cell_type": "markdown",
   "metadata": {},
   "source": [
    "# T calculations verification\n",
    "Goal: Verify reported results o"
   ]
  },
  {
   "cell_type": "code",
   "execution_count": 25,
   "metadata": {},
   "outputs": [],
   "source": [
    "import pandas as pd"
   ]
  },
  {
   "cell_type": "code",
   "execution_count": 26,
   "metadata": {},
   "outputs": [],
   "source": [
    "reported_results_portsmouth = [\n",
    "       {'contest_id': 'governor',\n",
    "        'results': [\n",
    "          {'candidate': 'DEM Gina M. Raimondo',\n",
    "           'proportion': 0.5607,\n",
    "           'votes': 4427 # TODO: these don't add up to total count -- matters?\n",
    "          },\n",
    "          {'candidate': 'MOD William H. Gilbert',\n",
    "           'proportion': 0.0265,\n",
    "           'votes': 209\n",
    "          },\n",
    "          {'candidate': 'REP Allan W. Fung',\n",
    "           'proportion': 0.3387,\n",
    "           'votes': 2674\n",
    "          },\n",
    "          {'candidate': 'Com Anne Armstrong',\n",
    "           'proportion': 0.0111,\n",
    "           'votes': 88\n",
    "          },\n",
    "          {'candidate': 'Ind Luis Daniel Munoz',\n",
    "           'proportion': 0.0129,\n",
    "           'votes': 102\n",
    "          },\n",
    "          {'candidate': 'Ind Joseph A. Trillo',\n",
    "           'proportion': 0.0477,\n",
    "           'votes': 377\n",
    "          },\n",
    "          {'candidate': 'Write-in',\n",
    "           'proportion': 0.0024,\n",
    "           'votes': 19\n",
    "          }\n",
    "          ]\n",
    "       }\n",
    "   ]\n"
   ]
  },
  {
   "cell_type": "code",
   "execution_count": 27,
   "metadata": {},
   "outputs": [],
   "source": [
    "expected_winner = 'DEM Gina M. Raimondo'\n",
    "expected_loser_names = ['MOD William H. Gilbert','REP Allan W. Fung','Com Anne Armstrong','Ind Luis Daniel Munoz','Ind Joseph A. Trillo','Write-in']\n",
    "expected_initial_t  = {'MOD William H. Gilbert' :1 , \\\n",
    "                       'REP Allan W. Fung' :  1, \\\n",
    "                       'Com Anne Armstrong' :  1 , \n",
    "                       'Ind Luis Daniel Munoz' :  1 , \n",
    "                       'Ind Joseph A. Trillo' :  1 , \n",
    "                       'Write-in' :  0.5607 / (0.5607+0.0024) \n",
    "                       }\n"
   ]
  },
  {
   "cell_type": "code",
   "execution_count": 28,
   "metadata": {},
   "outputs": [
    {
     "data": {
      "text/plain": [
       "{'MOD William H. Gilbert': 0.9548705722070845,\n",
       " 'REP Allan W. Fung': 0.6234156104069379,\n",
       " 'Com Anne Armstrong': 0.9805876180482687,\n",
       " 'Ind Luis Daniel Munoz': 0.9775104602510459,\n",
       " 'Ind Joseph A. Trillo': 0.9215976331360948,\n",
       " 'Write-in': 0.9957378795950986}"
      ]
     },
     "execution_count": 28,
     "metadata": {},
     "output_type": "execute_result"
    }
   ],
   "source": [
    "expected_initial_s_l = {'MOD William H. Gilbert' : 0.5607 / (0.5607+0.0265) , \\\n",
    "                       'REP Allan W. Fung' :  0.5607 / (0.5607+0.3387) , \\\n",
    "                       'Com Anne Armstrong' :  0.5607 / (0.5607+0.0111) , \n",
    "                       'Ind Luis Daniel Munoz' :  0.5607 / (0.5607+0.0129) , \n",
    "                       'Ind Joseph A. Trillo' :  0.5607 / (0.5607+0.0477) , \n",
    "                       'Write-in' :  0.5607 / (0.5607+0.0024) \n",
    "                       }\n",
    "expected_initial_s_l"
   ]
  },
  {
   "cell_type": "code",
   "execution_count": 29,
   "metadata": {},
   "outputs": [
    {
     "data": {
      "text/plain": [
       "{'MOD William H. Gilbert': 1.909741144414169,\n",
       " 'REP Allan W. Fung': 1.2468312208138759,\n",
       " 'Com Anne Armstrong': 1.9611752360965373,\n",
       " 'Ind Luis Daniel Munoz': 1.9550209205020919,\n",
       " 'Ind Joseph A. Trillo': 1.8431952662721895,\n",
       " 'Write-in': 1.9829878497210862}"
      ]
     },
     "execution_count": 29,
     "metadata": {},
     "output_type": "execute_result"
    }
   ],
   "source": [
    "expected_t_after_1_for_winner = {name : expected_initial_t[name] * expected_initial_s_l[name] / .5 for name  in expected_loser_names}\n",
    "expected_t_after_1_for_winner"
   ]
  },
  {
   "cell_type": "code",
   "execution_count": 30,
   "metadata": {},
   "outputs": [
    {
     "data": {
      "text/plain": [
       "{'MOD William H. Gilbert': 3.64711123866834,\n",
       " 'REP Allan W. Fung': 1.5545880931962202,\n",
       " 'Com Anne Armstrong': 3.846208306678309,\n",
       " 'Ind Luis Daniel Munoz': 3.8221067996008466,\n",
       " 'Ind Joseph A. Trillo': 3.397368789608208,\n",
       " 'Write-in': 3.949072233488237}"
      ]
     },
     "execution_count": 30,
     "metadata": {},
     "output_type": "execute_result"
    }
   ],
   "source": [
    "expected_t_after_2_for_winner = {name : expected_t_after_1_for_winner[name] * expected_initial_s_l[name] / .5 for name  in expected_loser_names}\n",
    "expected_t_after_2_for_winner"
   ]
  },
  {
   "cell_type": "code",
   "execution_count": 31,
   "metadata": {},
   "outputs": [
    {
     "data": {
      "text/plain": [
       "{'MOD William H. Gilbert': 6.965038390740253,\n",
       " 'REP Allan W. Fung': 1.9383089701025586,\n",
       " 'Com Anne Armstrong': 7.5430884839262955,\n",
       " 'Ind Luis Daniel Munoz': 7.472298753612952,\n",
       " 'Ind Joseph A. Trillo': 6.262014070786727,\n",
       " 'Write-in': 7.864481624282915}"
      ]
     },
     "execution_count": 31,
     "metadata": {},
     "output_type": "execute_result"
    }
   ],
   "source": [
    "expected_t_after_3_for_winner = {name : expected_t_after_2_for_winner[name] * expected_initial_s_l[name] / .5 for name  in expected_loser_names}\n",
    "expected_t_after_3_for_winner"
   ]
  },
  {
   "cell_type": "code",
   "execution_count": 32,
   "metadata": {},
   "outputs": [
    {
     "data": {
      "text/plain": [
       "{'MOD William H. Gilbert': 13.301420387220913,\n",
       " 'REP Allan W. Fung': 2.41674413950746,\n",
       " 'Com Anne Armstrong': 14.793318338361225,\n",
       " 'Ind Luis Daniel Munoz': 14.608500387555027,\n",
       " 'Ind Joseph A. Trillo': 11.54211469260394,\n",
       " 'Write-in': 15.661924513356173}"
      ]
     },
     "execution_count": 32,
     "metadata": {},
     "output_type": "execute_result"
    }
   ],
   "source": [
    "expected_t_after_4_for_winner = {name : expected_t_after_3_for_winner[name] * expected_initial_s_l[name] / .5 for name  in expected_loser_names}\n",
    "expected_t_after_4_for_winner"
   ]
  },
  {
   "cell_type": "code",
   "execution_count": 33,
   "metadata": {},
   "outputs": [
    {
     "data": {
      "text/plain": [
       "{'MOD William H. Gilbert': 25.402269792625226,\n",
       " 'REP Allan W. Fung': 3.013272045856866,\n",
       " 'Com Anne Armstrong': 29.01228958488681,\n",
       " 'Ind Luis Daniel Munoz': 28.559923874832997,\n",
       " 'Ind Joseph A. Trillo': 21.27437116417827,\n",
       " 'Write-in': 31.190343010615546}"
      ]
     },
     "execution_count": 33,
     "metadata": {},
     "output_type": "execute_result"
    }
   ],
   "source": [
    "expected_t_after_5_for_winner = {name : expected_t_after_4_for_winner[name] * expected_initial_s_l[name] / .5 for name  in expected_loser_names}\n",
    "expected_t_after_5_for_winner"
   ]
  },
  {
   "cell_type": "markdown",
   "metadata": {},
   "source": [
    "# Expected output if choose DEM Gina M. Raimondo for all ballots"
   ]
  },
  {
   "cell_type": "code",
   "execution_count": 34,
   "metadata": {},
   "outputs": [
    {
     "data": {
      "text/plain": [
       "{'MOD William H. Gilbert': 48.51175978448558,\n",
       " 'REP Allan W. Fung': 3.7570416635800417,\n",
       " 'Com Anne Armstrong': 56.8981838763415,\n",
       " 'Ind Luis Daniel Munoz': 55.83524866324568,\n",
       " 'Ind Joseph A. Trillo': 39.212820222730954,\n",
       " 'Write-in': 62.11481202646826}"
      ]
     },
     "execution_count": 34,
     "metadata": {},
     "output_type": "execute_result"
    }
   ],
   "source": [
    "expected_t_after_6_for_winner = {name : expected_t_after_5_for_winner[name] * expected_initial_s_l[name] / .5 for name  in expected_loser_names}\n",
    "expected_t_after_6_for_winner"
   ]
  },
  {
   "cell_type": "markdown",
   "metadata": {},
   "source": [
    "# Expected output if choose DEM Gina M. Raimondo for all ballots"
   ]
  },
  {
   "cell_type": "code",
   "execution_count": 35,
   "metadata": {},
   "outputs": [
    {
     "data": {
      "text/plain": [
       "{'MOD William H. Gilbert': 25.402269792625226,\n",
       " 'REP Allan W. Fung': 2.2695024281336904,\n",
       " 'Com Anne Armstrong': 29.01228958488681,\n",
       " 'Ind Luis Daniel Munoz': 28.559923874832997,\n",
       " 'Ind Joseph A. Trillo': 21.27437116417827,\n",
       " 'Write-in': 31.190343010615546}"
      ]
     },
     "execution_count": 35,
     "metadata": {},
     "output_type": "execute_result"
    }
   ],
   "source": [
    "expected_t_after_5_for_winner_one_for_alan_fung = expected_t_after_5_for_winner.copy()\n",
    "expected_t_after_5_for_winner_one_for_alan_fung['REP Allan W. Fung'] = expected_t_after_5_for_winner['REP Allan W. Fung'] * ((1-expected_initial_s_l['REP Allan W. Fung'])/.5)\n",
    "expected_t_after_5_for_winner_one_for_alan_fung"
   ]
  }
 ],
 "metadata": {
  "kernelspec": {
   "display_name": "Python 3",
   "language": "python",
   "name": "python3"
  },
  "language_info": {
   "codemirror_mode": {
    "name": "ipython",
    "version": 3
   },
   "file_extension": ".py",
   "mimetype": "text/x-python",
   "name": "python",
   "nbconvert_exporter": "python",
   "pygments_lexer": "ipython3",
   "version": "3.6.5"
  }
 },
 "nbformat": 4,
 "nbformat_minor": 2
}
