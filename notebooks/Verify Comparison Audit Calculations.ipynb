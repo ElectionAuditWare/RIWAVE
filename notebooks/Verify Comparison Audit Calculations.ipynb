{
 "cells": [
  {
   "cell_type": "markdown",
   "metadata": {},
   "source": [
    "# Comparison audit calculations for Bristol Audit\n",
    "Used to check 6 ballot stats output with seed 1 using example intepretations \n",
    "\n",
    "For these 6 ballots candidate 1 was chosen for all contest in the first 5 ballots.\n",
    "Candidate 2 was chosen for the last ballot."
   ]
  },
  {
   "cell_type": "code",
   "execution_count": 16,
   "metadata": {},
   "outputs": [],
   "source": [
    "from math import log, ceil"
   ]
  },
  {
   "cell_type": "code",
   "execution_count": 17,
   "metadata": {},
   "outputs": [],
   "source": [
    "reported_results_bristol = [\n",
    "      {'contest_id': 'senator',\n",
    "        'results': [\n",
    "          {'candidate': 'DEM Sheldon Whitehouse',\n",
    "           'proportion': 0.595, # shouldn't be needed at all\n",
    "           'votes': 5367\n",
    "          },\n",
    "          {'candidate': 'REP Robert G. Flanders Jr.',\n",
    "           'proportion': 0.389,\n",
    "           'votes': 3506\n",
    "          },\n",
    "          {'candidate': 'Write-in',\n",
    "           'proportion': 0.002,\n",
    "           'votes': 19\n",
    "          },\n",
    "          {'candidate': 'undervote',\n",
    "           'proportion': 0.014,\n",
    "           'votes': 127\n",
    "          },\n",
    "          {'candidate': 'overvote',\n",
    "           'proportion': 0.0002,\n",
    "           'votes': 2\n",
    "          }\n",
    "          ]},\n",
    "    ]"
   ]
  },
  {
   "attachments": {},
   "cell_type": "markdown",
   "metadata": {},
   "source": [
    "## Website output Senator\n",
    "From reported_results_bristol the reported winner is 'DEM Sheldon Whitehouse' \n",
    "losing candidate with votes in audit is 'REP Robert G. Flanders Jr.'\n",
    "![title](summary.png)"
   ]
  },
  {
   "cell_type": "code",
   "execution_count": 18,
   "metadata": {},
   "outputs": [],
   "source": [
    "#From discrepancy table: 1 2-vote overstatement  \n",
    "u1 = 1 \n",
    "u2 = 0\n",
    "o1 = 0\n",
    "o2 = 1"
   ]
  },
  {
   "cell_type": "code",
   "execution_count": 19,
   "metadata": {},
   "outputs": [],
   "source": [
    "# m: \"diluted margin\" smallest margin in votes / total number of the ballots\n",
    "#     i.e. difference in porportion of ballots (with rounding)\n",
    "m =   0.595 -  0.389\n",
    "# g: i.e. inflator\n",
    "g = 1.03905\n",
    "# a: risk limit\n",
    "a = 0.05"
   ]
  },
  {
   "cell_type": "code",
   "execution_count": 20,
   "metadata": {},
   "outputs": [
    {
     "name": "stdout",
     "output_type": "stream",
     "text": [
      "Stopping sample size: 60\n"
     ]
    }
   ],
   "source": [
    "#stopping sample size = -2g(log(a) + o1log(1-1/(2g)) + o2log(1 - 1/g) + u1log(1+1/(2g)) + u2log(1+1/g)) / m)\n",
    "#    round up to nearest whole number\n",
    "stopping_sample_size = ceil (-2*g *(log(a) \\\n",
    "                              + o1*log(1-1/(2*g)) \\\n",
    "                              + o2*log(1-1/g) + \\\n",
    "                              u1*log(1+1/(2*g)) + \\\n",
    "                              u2*log(1+1/g))/ m )\n",
    "print(\"Stopping sample size: %d\" % stopping_sample_size)"
   ]
  }
 ],
 "metadata": {
  "kernelspec": {
   "display_name": "Python 3",
   "language": "python",
   "name": "python3"
  },
  "language_info": {
   "codemirror_mode": {
    "name": "ipython",
    "version": 3
   },
   "file_extension": ".py",
   "mimetype": "text/x-python",
   "name": "python",
   "nbconvert_exporter": "python",
   "pygments_lexer": "ipython3",
   "version": "3.6.5"
  }
 },
 "nbformat": 4,
 "nbformat_minor": 2
}
